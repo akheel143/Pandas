{
  "nbformat": 4,
  "nbformat_minor": 0,
  "metadata": {
    "colab": {
      "name": "About Pandas",
      "provenance": [],
      "collapsed_sections": [],
      "authorship_tag": "ABX9TyP1frS+1KqiSnlSJUdS5INT",
      "include_colab_link": true
    },
    "kernelspec": {
      "name": "python3",
      "display_name": "Python 3"
    },
    "language_info": {
      "name": "python"
    }
  },
  "cells": [
    {
      "cell_type": "markdown",
      "metadata": {
        "id": "view-in-github",
        "colab_type": "text"
      },
      "source": [
        "<a href=\"https://colab.research.google.com/github/akheel143/Pandas/blob/main/About_Pandas.ipynb\" target=\"_parent\"><img src=\"https://colab.research.google.com/assets/colab-badge.svg\" alt=\"Open In Colab\"/></a>"
      ]
    },
    {
      "cell_type": "markdown",
      "source": [
        "Pandas is an open-source Python Library providing high-performance data manipulation and analysis tool using its powerful data structures. The name Pandas is derived from the word Panel Data – an Econometrics from Multidimensional data.\n",
        "\n",
        "\n",
        "In 2008, developer Wes McKinney started developing pandas when in need of high performance, flexible tool for analysis of data.\n",
        "\n",
        "\n",
        "Prior to Pandas, Python was majorly used for data munging and preparation. It had very little contribution towards data analysis. Pandas solved this problem. Using Pandas, we can accomplish five typical steps in the processing and analysis of data, regardless of the origin of data — load, prepare, manipulate, model, and analyze.\n",
        "\n",
        "\n",
        "Python with Pandas is used in a wide range of fields including academic and commercial domains including finance, economics, Statistics, analytics, etc.\n",
        "\n",
        "\n",
        "Key Features of Pandas\n",
        "Fast and efficient DataFrame object with default and customized indexing.\n",
        "Tools for loading data into in-memory data objects from different file formats.\n",
        "Data alignment and integrated handling of missing data.\n",
        "Reshaping and pivoting of date sets.\n",
        "Label-based slicing, indexing and subsetting of large data sets.\n",
        "Columns from a data structure can be deleted or inserted.\n",
        "Group by data for aggregation and transformations.\n",
        "High performance merging and joining of data.\n",
        "Time Series functionality."
      ],
      "metadata": {
        "id": "Jai-a_cMTVdg"
      }
    },
    {
      "cell_type": "code",
      "source": [
        ""
      ],
      "metadata": {
        "id": "JmSqWWaLUUTW"
      },
      "execution_count": null,
      "outputs": []
    },
    {
      "cell_type": "markdown",
      "source": [
        "Pandas deals with the following three data structures −\n",
        "\n",
        "\n",
        "Series\n",
        "DataFrame\n",
        "Panel\n",
        "These data structures are built on top of Numpy array, which means they are fast.\n",
        "\n",
        "\n",
        "Dimension & Description\n",
        "The best way to think of these data structures is that the higher dimensional data structure is a container of its lower dimensional data structure. For example, DataFrame is a container of Series, Panel is a container of DataFrame.\n",
        "\n",
        "\n",
        "Data Structure\tDimensions\tDescription\n",
        "Series\t1\t1D labeled homogeneous array, sizeimmutable.\n",
        "Data Frames\t2\tGeneral 2D labeled, size-mutable tabular structure with potentially heterogeneously typed columns.\n",
        "Panel\t3\tGeneral 3D labeled, size-mutable array.\n",
        "Building and handling two or more dimensional arrays is a tedious task, burden is placed on the user to consider the orientation of the data set when writing functions. But using Pandas data structures, the mental effort of the user is reduced.\n",
        "\n",
        "\n",
        "For example, with tabular data (DataFrame) it is more semantically helpful to think of the index (the rows) and the columns rather than axis 0 and axis 1.\n",
        "\n",
        "\n",
        "Mutability\n",
        "All Pandas data structures are value mutable (can be changed) and except Series all are size mutable. Series is size immutable.\n",
        "\n",
        "\n",
        "Note − DataFrame is widely used and one of the most important data structures. Panel is used much less.\n",
        "\n",
        "\n",
        "Series\n",
        "Series is a one-dimensional array like structure with homogeneous data. For example, the following series is a collection of integers 10, 23, 56, …\n",
        "\n",
        "\n",
        "10\t23\t56\t17\t52\t61\t73\t90\t26\t72\n",
        "Key Points\n",
        "Homogeneous data\n",
        "Size Immutable\n",
        "Values of Data Mutable\n",
        "DataFrame\n",
        "DataFrame is a two-dimensional array with heterogeneous data. For example,\n",
        "\n",
        "\n",
        "Name\tAge\tGender\tRating\n",
        "Steve\t32\tMale\t3.45\n",
        "Lia\t28\tFemale\t4.6\n",
        "Vin\t45\tMale\t3.9\n",
        "Katie\t38\tFemale\t2.78\n",
        "The table represents the data of a sales team of an organization with their overall performance rating. The data is represented in rows and columns. Each column represents an attribute and each row represents a person.\n",
        "\n",
        "\n",
        "Data Type of Columns\n",
        "The data types of the four columns are as follows −\n",
        "\n",
        "\n",
        "Column\tType\n",
        "Name\tString\n",
        "Age\tInteger\n",
        "Gender\tString\n",
        "Rating\tFloat\n",
        "Key Points\n",
        "Heterogeneous data\n",
        "Size Mutable\n",
        "Data Mutable\n",
        "Panel\n",
        "Panel is a three-dimensional data structure with heterogeneous data. It is hard to represent the panel in graphical representation. But a panel can be illustrated as a container of DataFrame.\n",
        "\n",
        "\n",
        "Key Points\n",
        "Heterogeneous data\n",
        "Size Mutable\n",
        "Data Mutable"
      ],
      "metadata": {
        "id": "8WSI3aprTVaE"
      }
    },
    {
      "cell_type": "code",
      "source": [
        ""
      ],
      "metadata": {
        "id": "1DnRiMQrUWmm"
      },
      "execution_count": null,
      "outputs": []
    },
    {
      "cell_type": "markdown",
      "source": [
        "Series is a one-dimensional labeled array capable of holding data of any type (integer, string, float, python objects, etc.). The axis labels are collectively called index.\n",
        "\n",
        "\n",
        "pandas.Series\n",
        "A pandas Series can be created using the following constructor −\n",
        "\n",
        "\n",
        "pandas.Series( data, index, dtype, copy)\n",
        "The parameters of the constructor are as follows −\n",
        "\n",
        "\n",
        "Sr.No\tParameter & Description\n",
        "1\t\n",
        "data\n",
        "\n",
        "\n",
        "data takes various forms like ndarray, list, constants\n",
        "\n",
        "2\t\n",
        "index\n",
        "\n",
        "\n",
        "Index values must be unique and hashable, same length as data. Default np.arrange(n) if no index is passed.\n",
        "\n",
        "3\t\n",
        "dtype\n",
        "\n",
        "dtype is for data type. If None, data type will be inferred\n",
        "\n",
        "\n",
        "4\t\n",
        "copy\n",
        "\n",
        "Copy data. Default False\n",
        "\n",
        "A series can be created using various inputs like −\n",
        "\n",
        "Array\n",
        "Dict\n",
        "Scalar value or constant"
      ],
      "metadata": {
        "id": "RPY2uWChTVXf"
      }
    },
    {
      "cell_type": "markdown",
      "source": [
        ""
      ],
      "metadata": {
        "id": "IMsjs_rbTVUz"
      }
    },
    {
      "cell_type": "markdown",
      "source": [
        ""
      ],
      "metadata": {
        "id": "fnF9qOr_TVSK"
      }
    }
  ]
}